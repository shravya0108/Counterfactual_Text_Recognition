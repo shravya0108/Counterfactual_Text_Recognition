{
  "nbformat": 4,
  "nbformat_minor": 0,
  "metadata": {
    "colab": {
      "name": " Frequency Distribution of Tokens",
      "provenance": [],
      "include_colab_link": true
    },
    "kernelspec": {
      "name": "python3",
      "display_name": "Python 3"
    },
    "language_info": {
      "name": "python"
    }
  },
  "cells": [
    {
      "cell_type": "markdown",
      "metadata": {
        "id": "view-in-github",
        "colab_type": "text"
      },
      "source": [
        "<a href=\"https://colab.research.google.com/github/shravya0108/Counterfactual_Text_Recognition/blob/main/Frequency_Distribution_of_Tokens.ipynb\" target=\"_parent\"><img src=\"https://colab.research.google.com/assets/colab-badge.svg\" alt=\"Open In Colab\"/></a>"
      ]
    },
    {
      "cell_type": "markdown",
      "source": [
        "Loading the data set from Google Drive\n"
      ],
      "metadata": {
        "id": "aLf58QjJoYaO"
      }
    },
    {
      "cell_type": "code",
      "source": [
        "from google.colab import drive\n",
        "drive.mount('/content/drive')"
      ],
      "metadata": {
        "colab": {
          "base_uri": "https://localhost:8080/"
        },
        "id": "e5hFCW5woaqr",
        "outputId": "3d85daec-bc50-47ea-e6c0-a10bad33fe5d"
      },
      "execution_count": null,
      "outputs": [
        {
          "output_type": "stream",
          "name": "stdout",
          "text": [
            "Mounted at /content/drive\n"
          ]
        }
      ]
    },
    {
      "cell_type": "markdown",
      "source": [
        "Importing necessary libraries"
      ],
      "metadata": {
        "id": "raEsD1Xeos3U"
      }
    },
    {
      "cell_type": "code",
      "source": [
        "import pandas as pd\n",
        "import numpy as np\n",
        "from sklearn.feature_extraction.text import CountVectorizer\n",
        "from yellowbrick.text import FreqDistVisualizer"
      ],
      "metadata": {
        "id": "Xt5Rja9kosBU"
      },
      "execution_count": null,
      "outputs": []
    },
    {
      "cell_type": "markdown",
      "source": [
        "Reading csv file"
      ],
      "metadata": {
        "id": "HJ8Zyi6So-14"
      }
    },
    {
      "cell_type": "code",
      "source": [
        "from nltk import corpus\n",
        "path='/content/drive/MyDrive/Machine Learning Project/Data Set /dataset.csv'\n",
        "corpus = pd.read_csv(path, encoding='utf-8')"
      ],
      "metadata": {
        "id": "P7orQ8Upo_H-"
      },
      "execution_count": null,
      "outputs": []
    },
    {
      "cell_type": "markdown",
      "source": [
        "Cleaning the dataset by dropping null values and converting text to lowercase"
      ],
      "metadata": {
        "id": "HIqFQyD0pOvD"
      }
    },
    {
      "cell_type": "code",
      "source": [
        "corpus['sentence'].dropna(inplace=True)\n",
        "corpus['sentence'] = [sent.lower() for sent in corpus['sentence']]"
      ],
      "metadata": {
        "id": "-NcNWVKtpJ0w"
      },
      "execution_count": null,
      "outputs": []
    },
    {
      "cell_type": "code",
      "source": [
        "print(corpus['sentence'])"
      ],
      "metadata": {
        "colab": {
          "base_uri": "https://localhost:8080/"
        },
        "id": "ADRiVpaapSQt",
        "outputId": "bb07ca6d-d445-4c42-bdcb-0dbee6ce25ce"
      },
      "execution_count": null,
      "outputs": [
        {
          "output_type": "stream",
          "name": "stdout",
          "text": [
            "0       unfortunately, letting them behave badly -- be...\n",
            "1       if pepfar ended antiretroviral coverage to a t...\n",
            "2       republicans may not have read their bill befor...\n",
            "3       people close to mr. trump have suggested that ...\n",
            "4       this must all happen fast if policies are to t...\n",
            "                              ...                        \n",
            "6995    recruiters said that deutsche's approach was l...\n",
            "6996    if they include agriculture, said ms malmstrm ...\n",
            "6997    alcoa may have put to rest fears that earnings...\n",
            "6998    if the new rules are approved by the eu, lives...\n",
            "6999    if they win and the affordable care act, or pi...\n",
            "Name: sentence, Length: 7000, dtype: object\n"
          ]
        }
      ]
    },
    {
      "cell_type": "markdown",
      "source": [
        "Converting bunch of multiple lines into a single paragraph for plotting graph (Frequency distribution of top 50 tokens)"
      ],
      "metadata": {
        "id": "51Z8Pn4UpiT7"
      }
    },
    {
      "cell_type": "code",
      "source": [
        "grp=corpus['sentence']"
      ],
      "metadata": {
        "id": "K_odNS06prGQ"
      },
      "execution_count": null,
      "outputs": []
    },
    {
      "cell_type": "code",
      "source": [
        "mystr = '\\n'.join([line.strip() for line in grp])"
      ],
      "metadata": {
        "id": "EQxmFWkPpmuW"
      },
      "execution_count": null,
      "outputs": []
    },
    {
      "cell_type": "code",
      "source": [
        "# Load the text data\n",
        "corpus2 = grp\n",
        "\n",
        "vectorizer = CountVectorizer()\n",
        "docs       = vectorizer.fit_transform(corpus2)\n",
        "features   = vectorizer.get_feature_names_out()\n",
        "\n",
        "visualizer = FreqDistVisualizer(features=features, orient='v')\n",
        "visualizer.fit(docs)\n",
        "visualizer.show()"
      ],
      "metadata": {
        "colab": {
          "base_uri": "https://localhost:8080/",
          "height": 398
        },
        "id": "03gqZBrrp0o9",
        "outputId": "24f9bbe6-bfaa-4d91-ec02-80d92529bcd4"
      },
      "execution_count": null,
      "outputs": [
        {
          "output_type": "display_data",
          "data": {
            "text/plain": [
              "<Figure size 576x396 with 1 Axes>"
            ],
            "image/png": "[encoded data removed]"
          },
          "metadata": {}
        },
        {
          "output_type": "execute_result",
          "data": {
            "text/plain": [
              "<matplotlib.axes._subplots.AxesSubplot at 0x7fecf754d390>"
            ]
          },
          "metadata": {},
          "execution_count": 8
        }
      ]
    }
  ]
}